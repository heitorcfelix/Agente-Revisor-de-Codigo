{
  "nbformat": 4,
  "nbformat_minor": 0,
  "metadata": {
    "colab": {
      "provenance": [],
      "include_colab_link": true
    },
    "kernelspec": {
      "name": "python3",
      "display_name": "Python 3"
    },
    "language_info": {
      "name": "python"
    },
    "widgets": {
      "application/vnd.jupyter.widget-state+json": {
        "e8ff2c840409457db252e0261b291da0": {
          "model_module": "@jupyter-widgets/controls",
          "model_name": "DropdownModel",
          "model_module_version": "1.5.0",
          "state": {
            "_dom_classes": [],
            "_model_module": "@jupyter-widgets/controls",
            "_model_module_version": "1.5.0",
            "_model_name": "DropdownModel",
            "_options_labels": [
              ".gitignore",
              "Dockerfile",
              "LICENSE",
              "README.md",
              "compose.yaml",
              "config.py",
              "init.sql",
              "requirements.txt",
              "app/__init__.py",
              "app/extensions.py",
              "secrets/appid.env",
              "secrets/database_password.env",
              "secrets/database_url.env",
              "secrets/database_user.env",
              "test/test_app.py",
              "app/main/__init__.py",
              "app/main/city_codes.py",
              "app/main/routes.py",
              "app/models/weather.py"
            ],
            "_view_count": null,
            "_view_module": "@jupyter-widgets/controls",
            "_view_module_version": "1.5.0",
            "_view_name": "DropdownView",
            "description": "Escolha um arquivo:",
            "description_tooltip": null,
            "disabled": false,
            "index": 18,
            "layout": "IPY_MODEL_e8d817107ca045d49b8e97d14f1a8c6e",
            "style": "IPY_MODEL_fe77dbcbfc71472ebc5b27685fb99ab8"
          }
        },
        "e8d817107ca045d49b8e97d14f1a8c6e": {
          "model_module": "@jupyter-widgets/base",
          "model_name": "LayoutModel",
          "model_module_version": "1.2.0",
          "state": {
            "_model_module": "@jupyter-widgets/base",
            "_model_module_version": "1.2.0",
            "_model_name": "LayoutModel",
            "_view_count": null,
            "_view_module": "@jupyter-widgets/base",
            "_view_module_version": "1.2.0",
            "_view_name": "LayoutView",
            "align_content": null,
            "align_items": null,
            "align_self": null,
            "border": null,
            "bottom": null,
            "display": null,
            "flex": null,
            "flex_flow": null,
            "grid_area": null,
            "grid_auto_columns": null,
            "grid_auto_flow": null,
            "grid_auto_rows": null,
            "grid_column": null,
            "grid_gap": null,
            "grid_row": null,
            "grid_template_areas": null,
            "grid_template_columns": null,
            "grid_template_rows": null,
            "height": null,
            "justify_content": null,
            "justify_items": null,
            "left": null,
            "margin": null,
            "max_height": null,
            "max_width": null,
            "min_height": null,
            "min_width": null,
            "object_fit": null,
            "object_position": null,
            "order": null,
            "overflow": null,
            "overflow_x": null,
            "overflow_y": null,
            "padding": null,
            "right": null,
            "top": null,
            "visibility": null,
            "width": null
          }
        },
        "fe77dbcbfc71472ebc5b27685fb99ab8": {
          "model_module": "@jupyter-widgets/controls",
          "model_name": "DescriptionStyleModel",
          "model_module_version": "1.5.0",
          "state": {
            "_model_module": "@jupyter-widgets/controls",
            "_model_module_version": "1.5.0",
            "_model_name": "DescriptionStyleModel",
            "_view_count": null,
            "_view_module": "@jupyter-widgets/base",
            "_view_module_version": "1.2.0",
            "_view_name": "StyleView",
            "description_width": ""
          }
        },
        "00878eb7f3664f608413b0a663e334a6": {
          "model_module": "@jupyter-widgets/output",
          "model_name": "OutputModel",
          "model_module_version": "1.0.0",
          "state": {
            "_dom_classes": [],
            "_model_module": "@jupyter-widgets/output",
            "_model_module_version": "1.0.0",
            "_model_name": "OutputModel",
            "_view_count": null,
            "_view_module": "@jupyter-widgets/output",
            "_view_module_version": "1.0.0",
            "_view_name": "OutputView",
            "layout": "IPY_MODEL_cff1862eb18a405dae158b917055309a",
            "msg_id": "",
            "outputs": [
              {
                "output_type": "stream",
                "name": "stdout",
                "text": [
                  "Arquivo selecionado: app/models/weather.py\n",
                  "Conteúdo do arquivo lido.\n",
                  "Submetendo conteúdo para o agente_programador...\n"
                ]
              },
              {
                "output_type": "stream",
                "name": "stdout",
                "text": [
                  "Sugestões finalizadas pelo agente programador\n",
                  "class Weather(db.Model):\n",
                  "    \"\"\"\n",
                  "    Modelo para armazenar dados meteorológicos no banco de dados.\n",
                  "\n",
                  "    Atributos:\n",
                  "        user_id (int): Chave primária, identificador do usuário associado aos dados meteorológicos.\n",
                  "        date_time (datetime): Data e hora da coleta dos dados meteorológicos.\n",
                  "        json_data (JSON): Dados meteorológicos formatados em JSON.\n",
                  "    \"\"\"\n",
                  "    user_id = db.Column(db.Integer, primary_key=True)\n",
                  "    date_time = db.Column(db.DateTime)\n",
                  "    json_data = db.Column(db.JSON)\n",
                  "\n",
                  "\n"
                ]
              }
            ]
          }
        },
        "cff1862eb18a405dae158b917055309a": {
          "model_module": "@jupyter-widgets/base",
          "model_name": "LayoutModel",
          "model_module_version": "1.2.0",
          "state": {
            "_model_module": "@jupyter-widgets/base",
            "_model_module_version": "1.2.0",
            "_model_name": "LayoutModel",
            "_view_count": null,
            "_view_module": "@jupyter-widgets/base",
            "_view_module_version": "1.2.0",
            "_view_name": "LayoutView",
            "align_content": null,
            "align_items": null,
            "align_self": null,
            "border": null,
            "bottom": null,
            "display": null,
            "flex": null,
            "flex_flow": null,
            "grid_area": null,
            "grid_auto_columns": null,
            "grid_auto_flow": null,
            "grid_auto_rows": null,
            "grid_column": null,
            "grid_gap": null,
            "grid_row": null,
            "grid_template_areas": null,
            "grid_template_columns": null,
            "grid_template_rows": null,
            "height": null,
            "justify_content": null,
            "justify_items": null,
            "left": null,
            "margin": null,
            "max_height": null,
            "max_width": null,
            "min_height": null,
            "min_width": null,
            "object_fit": null,
            "object_position": null,
            "order": null,
            "overflow": null,
            "overflow_x": null,
            "overflow_y": null,
            "padding": null,
            "right": null,
            "top": null,
            "visibility": null,
            "width": null
          }
        },
        "8b9546024f0f431f9de851498b74ce80": {
          "model_module": "@jupyter-widgets/controls",
          "model_name": "ButtonModel",
          "model_module_version": "1.5.0",
          "state": {
            "_dom_classes": [],
            "_model_module": "@jupyter-widgets/controls",
            "_model_module_version": "1.5.0",
            "_model_name": "ButtonModel",
            "_view_count": null,
            "_view_module": "@jupyter-widgets/controls",
            "_view_module_version": "1.5.0",
            "_view_name": "ButtonView",
            "button_style": "success",
            "description": "Criar Pull Request",
            "disabled": false,
            "icon": "",
            "layout": "IPY_MODEL_fa847c3aa0e640eaaf804b9cea69d383",
            "style": "IPY_MODEL_36f4f51327da4f4ea66d027ef6d303cd",
            "tooltip": "Criar um PR com a última sugestão do agente"
          }
        },
        "fa847c3aa0e640eaaf804b9cea69d383": {
          "model_module": "@jupyter-widgets/base",
          "model_name": "LayoutModel",
          "model_module_version": "1.2.0",
          "state": {
            "_model_module": "@jupyter-widgets/base",
            "_model_module_version": "1.2.0",
            "_model_name": "LayoutModel",
            "_view_count": null,
            "_view_module": "@jupyter-widgets/base",
            "_view_module_version": "1.2.0",
            "_view_name": "LayoutView",
            "align_content": null,
            "align_items": null,
            "align_self": null,
            "border": null,
            "bottom": null,
            "display": null,
            "flex": null,
            "flex_flow": null,
            "grid_area": null,
            "grid_auto_columns": null,
            "grid_auto_flow": null,
            "grid_auto_rows": null,
            "grid_column": null,
            "grid_gap": null,
            "grid_row": null,
            "grid_template_areas": null,
            "grid_template_columns": null,
            "grid_template_rows": null,
            "height": null,
            "justify_content": null,
            "justify_items": null,
            "left": null,
            "margin": null,
            "max_height": null,
            "max_width": null,
            "min_height": null,
            "min_width": null,
            "object_fit": null,
            "object_position": null,
            "order": null,
            "overflow": null,
            "overflow_x": null,
            "overflow_y": null,
            "padding": null,
            "right": null,
            "top": null,
            "visibility": null,
            "width": null
          }
        },
        "36f4f51327da4f4ea66d027ef6d303cd": {
          "model_module": "@jupyter-widgets/controls",
          "model_name": "ButtonStyleModel",
          "model_module_version": "1.5.0",
          "state": {
            "_model_module": "@jupyter-widgets/controls",
            "_model_module_version": "1.5.0",
            "_model_name": "ButtonStyleModel",
            "_view_count": null,
            "_view_module": "@jupyter-widgets/base",
            "_view_module_version": "1.2.0",
            "_view_name": "StyleView",
            "button_color": null,
            "font_weight": ""
          }
        }
      }
    }
  },
  "cells": [
    {
      "cell_type": "markdown",
      "metadata": {
        "id": "view-in-github",
        "colab_type": "text"
      },
      "source": [
        "<a href=\"https://colab.research.google.com/github/heitorcfelix/Agente-Revisor-de-Codigo/blob/main/Imers%C3%A3o_IA_Alura_%2B_Google_Gemini_Projeto.ipynb\" target=\"_parent\"><img src=\"https://colab.research.google.com/assets/colab-badge.svg\" alt=\"Open In Colab\"/></a>"
      ]
    },
    {
      "cell_type": "code",
      "source": [
        "%pip -q install google-genai google-adk PyGithub"
      ],
      "metadata": {
        "id": "UCCbECexLk_h",
        "colab": {
          "base_uri": "https://localhost:8080/"
        },
        "outputId": "4b30872d-fd6a-4f00-c58f-0e711bf9da70"
      },
      "execution_count": 1,
      "outputs": [
        {
          "output_type": "stream",
          "name": "stdout",
          "text": [
            "\u001b[?25l   \u001b[90m━━━━━━━━━━━━━━━━━━━━━━━━━━━━━━━━━━━━━━━━\u001b[0m \u001b[32m0.0/1.2 MB\u001b[0m \u001b[31m?\u001b[0m eta \u001b[36m-:--:--\u001b[0m\r\u001b[2K   \u001b[91m━━━━━━━━━━━━━\u001b[0m\u001b[91m╸\u001b[0m\u001b[90m━━━━━━━━━━━━━━━━━━━━━━━━━━\u001b[0m \u001b[32m0.4/1.2 MB\u001b[0m \u001b[31m12.3 MB/s\u001b[0m eta \u001b[36m0:00:01\u001b[0m\r\u001b[2K   \u001b[91m━━━━━━━━━━━━━━━━━━━━━━━━━━━━━━━━━━━━━━━\u001b[0m\u001b[91m╸\u001b[0m \u001b[32m1.2/1.2 MB\u001b[0m \u001b[31m20.9 MB/s\u001b[0m eta \u001b[36m0:00:01\u001b[0m\r\u001b[2K   \u001b[90m━━━━━━━━━━━━━━━━━━━━━━━━━━━━━━━━━━━━━━━━\u001b[0m \u001b[32m1.2/1.2 MB\u001b[0m \u001b[31m15.6 MB/s\u001b[0m eta \u001b[36m0:00:00\u001b[0m\n",
            "\u001b[?25h\u001b[?25l   \u001b[90m━━━━━━━━━━━━━━━━━━━━━━━━━━━━━━━━━━━━━━━━\u001b[0m \u001b[32m0.0/410.5 kB\u001b[0m \u001b[31m?\u001b[0m eta \u001b[36m-:--:--\u001b[0m\r\u001b[2K   \u001b[90m━━━━━━━━━━━━━━━━━━━━━━━━━━━━━━━━━━━━━━━━\u001b[0m \u001b[32m410.5/410.5 kB\u001b[0m \u001b[31m26.1 MB/s\u001b[0m eta \u001b[36m0:00:00\u001b[0m\n",
            "\u001b[2K   \u001b[90m━━━━━━━━━━━━━━━━━━━━━━━━━━━━━━━━━━━━━━━━\u001b[0m \u001b[32m232.1/232.1 kB\u001b[0m \u001b[31m15.2 MB/s\u001b[0m eta \u001b[36m0:00:00\u001b[0m\n",
            "\u001b[2K   \u001b[90m━━━━━━━━━━━━━━━━━━━━━━━━━━━━━━━━━━━━━━━━\u001b[0m \u001b[32m95.2/95.2 kB\u001b[0m \u001b[31m7.2 MB/s\u001b[0m eta \u001b[36m0:00:00\u001b[0m\n",
            "\u001b[2K   \u001b[90m━━━━━━━━━━━━━━━━━━━━━━━━━━━━━━━━━━━━━━━━\u001b[0m \u001b[32m217.1/217.1 kB\u001b[0m \u001b[31m14.6 MB/s\u001b[0m eta \u001b[36m0:00:00\u001b[0m\n",
            "\u001b[2K   \u001b[90m━━━━━━━━━━━━━━━━━━━━━━━━━━━━━━━━━━━━━━━━\u001b[0m \u001b[32m334.1/334.1 kB\u001b[0m \u001b[31m21.8 MB/s\u001b[0m eta \u001b[36m0:00:00\u001b[0m\n",
            "\u001b[2K   \u001b[90m━━━━━━━━━━━━━━━━━━━━━━━━━━━━━━━━━━━━━━━━\u001b[0m \u001b[32m125.1/125.1 kB\u001b[0m \u001b[31m8.9 MB/s\u001b[0m eta \u001b[36m0:00:00\u001b[0m\n",
            "\u001b[2K   \u001b[90m━━━━━━━━━━━━━━━━━━━━━━━━━━━━━━━━━━━━━━━━\u001b[0m \u001b[32m65.8/65.8 kB\u001b[0m \u001b[31m4.5 MB/s\u001b[0m eta \u001b[36m0:00:00\u001b[0m\n",
            "\u001b[2K   \u001b[90m━━━━━━━━━━━━━━━━━━━━━━━━━━━━━━━━━━━━━━━━\u001b[0m \u001b[32m119.0/119.0 kB\u001b[0m \u001b[31m8.7 MB/s\u001b[0m eta \u001b[36m0:00:00\u001b[0m\n",
            "\u001b[2K   \u001b[90m━━━━━━━━━━━━━━━━━━━━━━━━━━━━━━━━━━━━━━━━\u001b[0m \u001b[32m194.9/194.9 kB\u001b[0m \u001b[31m11.7 MB/s\u001b[0m eta \u001b[36m0:00:00\u001b[0m\n",
            "\u001b[2K   \u001b[90m━━━━━━━━━━━━━━━━━━━━━━━━━━━━━━━━━━━━━━━━\u001b[0m \u001b[32m856.7/856.7 kB\u001b[0m \u001b[31m36.1 MB/s\u001b[0m eta \u001b[36m0:00:00\u001b[0m\n",
            "\u001b[2K   \u001b[90m━━━━━━━━━━━━━━━━━━━━━━━━━━━━━━━━━━━━━━━━\u001b[0m \u001b[32m62.5/62.5 kB\u001b[0m \u001b[31m4.3 MB/s\u001b[0m eta \u001b[36m0:00:00\u001b[0m\n",
            "\u001b[2K   \u001b[90m━━━━━━━━━━━━━━━━━━━━━━━━━━━━━━━━━━━━━━━━\u001b[0m \u001b[32m103.3/103.3 kB\u001b[0m \u001b[31m7.5 MB/s\u001b[0m eta \u001b[36m0:00:00\u001b[0m\n",
            "\u001b[2K   \u001b[90m━━━━━━━━━━━━━━━━━━━━━━━━━━━━━━━━━━━━━━━━\u001b[0m \u001b[32m44.4/44.4 kB\u001b[0m \u001b[31m3.3 MB/s\u001b[0m eta \u001b[36m0:00:00\u001b[0m\n",
            "\u001b[2K   \u001b[90m━━━━━━━━━━━━━━━━━━━━━━━━━━━━━━━━━━━━━━━━\u001b[0m \u001b[32m72.0/72.0 kB\u001b[0m \u001b[31m5.8 MB/s\u001b[0m eta \u001b[36m0:00:00\u001b[0m\n",
            "\u001b[?25h"
          ]
        }
      ]
    },
    {
      "cell_type": "code",
      "source": [
        "# Configura a API Key do Google Gemini\n",
        "\n",
        "import os\n",
        "from google.colab import userdata\n",
        "\n",
        "os.environ[\"GOOGLE_API_KEY\"] = userdata.get('GOOGLE_API_KEY')"
      ],
      "metadata": {
        "id": "IvXVWFce29cy"
      },
      "execution_count": 2,
      "outputs": []
    },
    {
      "cell_type": "code",
      "execution_count": 3,
      "metadata": {
        "id": "aePV2bdfDeoW"
      },
      "outputs": [],
      "source": [
        "from google.adk.agents import Agent\n",
        "from google.adk.runners import Runner\n",
        "from google.adk.sessions import InMemorySessionService\n",
        "from google.adk.tools import google_search\n",
        "from google.genai import types  # Para criar conteúdos (Content e Part)\n",
        "from datetime import date\n",
        "import textwrap # Para formatar melhor a saída de texto\n",
        "from IPython.display import display, Markdown # Para exibir texto formatado no Colab\n",
        "import requests # Para fazer requisições HTTP\n",
        "import warnings\n",
        "\n",
        "warnings.filterwarnings(\"ignore\")"
      ]
    },
    {
      "cell_type": "code",
      "source": [
        "# Função auxiliar que envia uma mensagem para um agente via Runner e retorna a resposta final\n",
        "def call_agent(agent: Agent, message_text: str) -> str:\n",
        "    # Cria um serviço de sessão em memória\n",
        "    session_service = InMemorySessionService()\n",
        "    # Cria uma nova sessão (você pode personalizar os IDs conforme necessário)\n",
        "    session = session_service.create_session(app_name=agent.name, user_id=\"user1\", session_id=\"session1\")\n",
        "    # Cria um Runner para o agente\n",
        "    runner = Runner(agent=agent, app_name=agent.name, session_service=session_service)\n",
        "    # Cria o conteúdo da mensagem de entrada\n",
        "    content = types.Content(role=\"user\", parts=[types.Part(text=message_text)])\n",
        "\n",
        "    final_response = \"\"\n",
        "    # Itera assincronamente pelos eventos retornados durante a execução do agente\n",
        "    for event in runner.run(user_id=\"user1\", session_id=\"session1\", new_message=content):\n",
        "        if event.is_final_response():\n",
        "          for part in event.content.parts:\n",
        "            if part.text is not None:\n",
        "              final_response += part.text\n",
        "              final_response += \"\\n\"\n",
        "    return final_response"
      ],
      "metadata": {
        "id": "_xP4lWhsS5ko"
      },
      "execution_count": 4,
      "outputs": []
    },
    {
      "cell_type": "code",
      "source": [
        "# Função auxiliar para exibir texto formatado em Markdown no Colab\n",
        "def to_markdown(text):\n",
        "  text = text.replace('•', '  *')\n",
        "  return Markdown(textwrap.indent(text, '> ', predicate=lambda _: True))"
      ],
      "metadata": {
        "id": "8dosiodaxfFR"
      },
      "execution_count": 5,
      "outputs": []
    },
    {
      "cell_type": "code",
      "source": [
        "from github import Github\n",
        "\n",
        "# Authentication is defined via github.Auth\n",
        "from github import Auth\n",
        "\n",
        "# using an access token\n",
        "auth = Auth.Token(userdata.get('GITHUB_API_KEY'))\n",
        "\n",
        "# First create a Github instance:\n",
        "g = Github(auth=auth)\n",
        "\n",
        "# Then play with your Github privete objects:\n",
        "for repo in g.get_user().get_repos():\n",
        "    print(repo.name)\n",
        "\n",
        "# To close connections after use\n",
        "g.close()"
      ],
      "metadata": {
        "colab": {
          "base_uri": "https://localhost:8080/"
        },
        "id": "C9AvwYvYGU4_",
        "outputId": "dfcb18e3-871a-414e-a56f-199369f56017"
      },
      "execution_count": 6,
      "outputs": [
        {
          "output_type": "stream",
          "name": "stdout",
          "text": [
            "InsPLAD\n",
            "PLAD\n",
            "skip-ganomaly\n",
            "if702-redes-neurais\n",
            "leap-talk\n",
            "DOLL\n",
            "ObjLocalisation\n",
            "2018.2-codigo\n",
            "ABC_Tracking\n",
            "AR.js\n",
            "CalculosFarmaceuticos\n",
            "Cashless-01\n",
            "ComputacaoBioinspirada\n",
            "Cracking-the-Code\n",
            "Dataset-Imbalance-Graphical-Support-Tool\n",
            "DeOldify\n",
            "exercicio-calculadora\n",
            "exercicio-rss\n",
            "GrupoMF\n",
            "heitorcfelix.github.io\n",
            "iaLAB-HUB\n",
            "incognia\n",
            "ivy\n",
            "logllm\n",
            "logllm-front\n",
            "Monitor-de-Consumo-Energetico\n",
            "NUDFACFerramentas\n",
            "OGNet\n",
            "OpenWeatherService\n",
            "P3-4\n",
            "P3-6\n",
            "Path_Tracer\n",
            "PetLab-Lika\n",
            "public-insulator-datasets\n",
            "python-terraform\n",
            "Pytorch-UNet\n",
            "se-eu-nao-posso-ninguem-pode\n",
            "singleshot6Dpose\n",
            "TableOn\n",
            "tg\n",
            "VISRecorder\n",
            "if678\n",
            "robocode-Justice_League\n"
          ]
        }
      ]
    },
    {
      "cell_type": "code",
      "source": [
        "# prompt: access AR.js repository\n",
        "repo = g.get_user().get_repo(\"OpenWeatherService\")\n",
        "repo.name\n",
        "\n",
        "# print readme with ipython md\n",
        "from IPython.display import display, Markdown\n",
        "readme = repo.get_contents(\"README.md\")\n",
        "display(to_markdown(readme.decoded_content.decode(\"utf-8\")))\n"
      ],
      "metadata": {
        "colab": {
          "base_uri": "https://localhost:8080/",
          "height": 783
        },
        "id": "hntqSjlDG0B2",
        "outputId": "cfb814ef-612b-42f5-8433-292caebf3820"
      },
      "execution_count": 7,
      "outputs": [
        {
          "output_type": "display_data",
          "data": {
            "text/plain": [
              "<IPython.core.display.Markdown object>"
            ],
            "text/markdown": "> # OpenWeatherService\n> ### Service that collects data from an Open Weather API and stores it as JSON data in a PostgreSQL DB\n> \n> ### Requirements\n> - Docker >= 24.0.5\n> \n> ### How to Build\n> \n> - Create an [OpenWeather Account](https://openweathermap.org/) and Generate a API Key\n> - Put the key and all sensitive values in secrets folder\n>     - [AppID](./secrets/appid.env)\n>     - [DB URI](./secrets/database_url.env)\n>     - [DB USER](./secrets/database_user.env)\n>     - [DB PASSWORD](./secrets/database_password.env)\n> \n> - Run\n> ```sh\n> docker compose up -d\n> ```\n> \n> ### How to Run\n> Receives a user defined ID, collect weather data from OpenWeather API and store:\n> - The user defined ID (needs to be unique for each request)\n> - Datetime of request\n> - JSON data with:\n>     - City ID\n>     - Temperature in Celsius\n>     - Humidity\n> ```sh\n> curl -XPOST -H 'Content-Type: application/x-www-form-urlencoded' -d 'user_id=1' 'http://localhost:8000'\n> ```\n> \n> Receives the user defined ID, returns with the percentage of the POST progress ID (collected cities completed) until the current moment.\n> ```sh\n> curl -XGET 'http://localhost:8000?user_id=1'\n> ```\n> \n> ### How to Test\n> ```sh\n> python test/test_app.py\n> ```\n> The test will try all 161 Appendix A cities, it should take considerable time. To change the list of cities, change in [city_codes](./app/main/city_codes.py)."
          },
          "metadata": {}
        }
      ]
    },
    {
      "cell_type": "code",
      "source": [
        "def _listar_todos_os_arquivos(repo, path=\"/\"):\n",
        "    arquivos = []\n",
        "    conteudo = repo.get_contents(path)\n",
        "    while conteudo:\n",
        "        arquivo = conteudo.pop(0)\n",
        "        if arquivo.type == \"dir\":\n",
        "            conteudo.extend(repo.get_contents(arquivo.path))\n",
        "        else:\n",
        "            arquivos.append(arquivo)\n",
        "    return arquivos\n"
      ],
      "metadata": {
        "id": "4RusTzOHJfIe"
      },
      "execution_count": 8,
      "outputs": []
    },
    {
      "cell_type": "code",
      "source": [
        "##########################################\n",
        "# --- Agente 1: Agente interpletador de arquivo de código --- #\n",
        "##########################################\n",
        "def agente_leitor(arquivo):\n",
        "\n",
        "    analista_codigo = Agent(\n",
        "        name=\"analista_codigo\",\n",
        "        model=\"gemini-2.0-flash\",\n",
        "        instruction=\"\"\"\n",
        "        Você é um assistente de análise de código. Sua tarefa é analisar **um arquivo de código por vez**, recebido como entrada,\n",
        "        e gerar uma explicação clara e objetiva sobre o que esse arquivo faz. A explicação não deve conter o conteúdo no arquivo, apenas o objetibo geral do arquivo.\n",
        "\n",
        "        Para cada arquivo que receber:\n",
        "        - Indique o nome do arquivo.\n",
        "        - Explique qual é o propósito geral do arquivo dentro de um projeto de software.\n",
        "        - Destaque e explique as principais funções, classes, componentes ou blocos de lógica presentes.\n",
        "        - Se possível, comente como esse arquivo pode se relacionar com outras partes de um sistema típico (ex: \"essa função pode ser usada para autenticar usuários\").\n",
        "\n",
        "        O conteúdo será passado um arquivo por vez. Não é necessário lidar com múltiplos arquivos ou navegar por diretórios.\n",
        "\n",
        "        Ignore arquivos que não sejam código-fonte (por exemplo: imagens, arquivos binários, .md, .txt, etc.) ou que não contenham lógica significativa.\n",
        "\n",
        "        O objetivo é ajudar alguém a entender, de forma didática, o papel e funcionamento de um único arquivo de código dentro de um sistema.\n",
        "        \"\"\",\n",
        "        description=\"Agente que analisa e explica um arquivo de código por vez.\",\n",
        "    )\n",
        "\n",
        "\n",
        "    analise = call_agent(analista_codigo, arquivo)\n",
        "    return analise"
      ],
      "metadata": {
        "id": "WO-dmzmuH7E0"
      },
      "execution_count": 23,
      "outputs": []
    },
    {
      "cell_type": "code",
      "source": [
        "def analisar_repositorio(repo, path=\"/\"):\n",
        "    all_analyses = []\n",
        "\n",
        "    def _processar_arquivo(path):\n",
        "        contents = repo.get_contents(path)\n",
        "\n",
        "        # Handle if contents is a single file\n",
        "        if not isinstance(contents, list):\n",
        "            contents = [contents]\n",
        "\n",
        "        for item in contents:\n",
        "            if item.type == 'file':\n",
        "                print(f\"Analisando: {item.path}\")\n",
        "                try:\n",
        "                    conteudo = repo.get_contents(item.path).decoded_content.decode(\"utf-8\")\n",
        "                    resposta = agente_leitor(conteudo)\n",
        "                    all_analyses.append(f\"## {item.path}\\n\\n{resposta}\")\n",
        "                except Exception as e:\n",
        "                    all_analyses.append(f\"## {item.path}\\n\\nErro ao analisar: {str(e)}\")\n",
        "            elif item.type == 'dir':\n",
        "                _processar_arquivo(item.path)\n",
        "\n",
        "    _processar_arquivo(path)\n",
        "    return \"\\n\\n---\\n\\n\".join(all_analyses)\n",
        "\n",
        "# Analisar todo o repositório recursivamente\n",
        "print(\"Iniciando análise recursiva do repositório...\")\n",
        "resultado_completo = analisar_repositorio(repo)\n",
        "print(\"Análise concluída. Resultado completo:\\n\")\n",
        "display(to_markdown(resultado_completo))"
      ],
      "metadata": {
        "colab": {
          "base_uri": "https://localhost:8080/",
          "height": 1000
        },
        "id": "OEctIptSONNQ",
        "outputId": "25edc6d8-610a-4625-a414-06f701831645"
      },
      "execution_count": 24,
      "outputs": [
        {
          "output_type": "stream",
          "name": "stdout",
          "text": [
            "Iniciando análise recursiva do repositório...\n",
            "Analisando: .gitignore\n",
            "Analisando: Dockerfile\n",
            "Analisando: LICENSE\n",
            "Analisando: README.md\n",
            "Analisando: app/__init__.py\n",
            "Analisando: app/extensions.py\n",
            "Analisando: app/main/__init__.py\n",
            "Analisando: app/main/city_codes.py\n",
            "Analisando: app/main/routes.py\n",
            "Analisando: app/models/weather.py\n",
            "Analisando: compose.yaml\n",
            "Analisando: config.py\n",
            "Analisando: init.sql\n",
            "Analisando: requirements.txt\n",
            "Analisando: secrets/appid.env\n",
            "Analisando: secrets/database_password.env\n",
            "Analisando: secrets/database_url.env\n",
            "Analisando: secrets/database_user.env\n",
            "Analisando: test/test_app.py\n",
            "Análise concluída. Resultado completo:\n",
            "\n"
          ]
        },
        {
          "output_type": "display_data",
          "data": {
            "text/plain": [
              "<IPython.core.display.Markdown object>"
            ],
            "text/markdown": "> ## .gitignore\n> \n> Não foram encontrados arquivos de código fonte para análise. Os arquivos listados são arquivos de sistema/configuração ou diretórios, que não contêm código fonte para serem analisados.\n> \n> \n> ---\n> \n> ## Dockerfile\n> \n> Arquivo: Dockerfile\n> \n> Propósito: Este Dockerfile é usado para construir uma imagem Docker para uma aplicação Flask em Python. Ele define o ambiente, instala as dependências, copia o código-fonte e configura o comando de execução para iniciar a aplicação Flask.\n> \n> Principais instruções:\n> \n> - `FROM python:alpine3.18`: Define a imagem base como Python 3.18 em Alpine Linux, uma distribuição Linux leve.\n> - `WORKDIR /app`: Define o diretório de trabalho dentro do contêiner como /app.\n> - `ENV FLASK_APP=app`: Define a variável de ambiente FLASK_APP para \"app\", indicando o arquivo principal da aplicação Flask.\n> - `ENV FLASK_RUN_HOST=0.0.0.0`: Define a variável de ambiente FLASK_RUN_HOST para \"0.0.0.0\", permitindo que a aplicação Flask seja acessível externamente.\n> - `COPY requirements.txt requirements.txt`: Copia o arquivo requirements.txt para o diretório de trabalho.\n> - `RUN pip install -r requirements.txt`: Instala as dependências Python listadas no arquivo requirements.txt.\n> - `EXPOSE 5000`: Expõe a porta 5000, que é a porta padrão para aplicações Flask.\n> - `COPY . .`: Copia todo o código-fonte do diretório atual para o diretório de trabalho no contêiner.\n> - `CMD [\"flask\", \"run\"]`: Define o comando a ser executado quando o contêiner for iniciado, que inicia a aplicação Flask.\n> \n> \n> ---\n> \n> ## LICENSE\n> \n> Este não é um arquivo de código-fonte, mas sim um texto sobre a licença de uso do código. Portanto, não há análise a ser feita.\n> \n> \n> ---\n> \n> ## README.md\n> \n> Ok, entendi o projeto. Ele consiste em um serviço que coleta dados de clima de uma API do OpenWeather e os armazena como JSON em um banco de dados PostgreSQL. As principais funcionalidades são:\n> \n> 1.  **Coleta de dados climáticos:** O serviço se conecta à API do OpenWeather, obtém informações sobre o clima de cidades específicas.\n> 2.  **Armazenamento em banco de dados:** Os dados coletados são armazenados em um banco de dados PostgreSQL no formato JSON.\n> 3.  **API para requisições:** O serviço expõe uma API que permite aos usuários solicitar dados climáticos para um determinado ID de usuário.\n> 4.  **Progresso da requisição:** A API também permite consultar o progresso da coleta de dados climáticos para um determinado ID de usuário.\n> 5.  **Testes:** O projeto inclui testes automatizados para garantir a qualidade e o funcionamento correto do serviço.\n> \n> Agora, estou pronto para analisar arquivos de código individualmente e fornecer explicações mais detalhadas sobre cada um deles. Por favor, me forneça o primeiro arquivo.\n> \n> \n> \n> ---\n> \n> ## app/__init__.py\n> \n> Arquivo: `app/__init__.py`\n> \n> Propósito: Este arquivo contém a função de fábrica da aplicação Flask, responsável por criar e configurar a instância principal da aplicação.\n> \n> Principais Componentes:\n> \n> - `create_app(config_class=Config)`: Função que cria e configura a aplicação Flask.\n>     - Inicializa a aplicação Flask.\n>     - Carrega as configurações a partir de uma classe de configuração (por padrão, `Config`).\n>     - Inicializa as extensões do Flask, como o banco de dados.\n>     - Registra os blueprints, que são coleções de views e outros códigos relacionados que podem ser registrados em uma aplicação. No caso, registra o blueprint `main_bp` do módulo `app.main`.\n> \n> Relação com o Sistema:\n> Este arquivo é o ponto de entrada para a criação da aplicação Flask. Ele configura a aplicação, inicializa extensões e registra blueprints, preparando a aplicação para receber e responder a requisições HTTP. A função `create_app` é normalmente chamada no script principal para iniciar a aplicação.\n> \n> \n> ---\n> \n> ## app/extensions.py\n> \n> O arquivo define uma instância do SQLAlchemy para uso com o Flask.\n> \n> -   **Nome do arquivo:** Não especificado (o código é um fragmento)\n> -   **Propósito:** Configurar a extensão SQLAlchemy para interagir com um banco de dados em uma aplicação Flask.\n> -   **Principais elementos:**\n>     -   `db = SQLAlchemy()`: Cria uma instância do SQLAlchemy, que será usada para definir modelos de banco de dados e realizar operações no banco de dados. Essa instância precisa ser associada a uma aplicação Flask para funcionar corretamente.\n> \n> Em um sistema típico, essa instância `db` seria usada para definir as tabelas do banco de dados como classes Python (modelos), e as operações de banco de dados (criar, ler, atualizar, deletar) seriam realizadas através dessa instância.\n> \n> \n> ---\n> \n> ## app/main/__init__.py\n> \n> O arquivo `__init__.py` dentro do diretório `app/main` define um Blueprint chamado `main` para o Flask. Blueprints são usados para organizar um grupo de rotas e outros componentes relacionados em uma aplicação Flask.\n> \n> - `bp = Blueprint('main', __name__)`: Cria um novo Blueprint chamado 'main'. O `__name__` garante que o Blueprint saiba onde seus recursos estão localizados.\n> \n> - `from app.main import routes`: Importa o módulo `routes.py` associado a este Blueprint. A importação de `routes` geralmente contém as definições de rota (URLs) que este Blueprint irá gerenciar.\n> \n> Em resumo, este arquivo inicializa um Blueprint para o módulo principal da aplicação, preparando-o para registrar rotas e views que lidam com a lógica principal da aplicação web. Ele estabelece a estrutura para organizar as funcionalidades principais da aplicação em um módulo coeso e reutilizável.\n> \n> \n> \n> ---\n> \n> ## app/main/city_codes.py\n> \n> O arquivo contém uma lista de inteiros chamada `city_codes`. Essa lista provavelmente armazena códigos de identificação de cidades, possivelmente para serem usados em alguma consulta a uma base de dados ou API de previsão do tempo. Cada número inteiro representa um código único associado a uma cidade específica.\n> \n> \n> ---\n> \n> ## app/main/routes.py\n> \n> ```text\n> Arquivo: app/main/routes.py\n> \n> Propósito:\n> Este arquivo define as rotas principais da aplicação Flask, responsáveis por lidar com requisições relacionadas a informações meteorológicas. Ele inclui rotas para buscar dados meteorológicos associados a um usuário e para criar ou atualizar esses dados.\n> \n> Principais Funções e Componentes:\n> \n> - Definição da Blueprint: Cria um blueprint chamado bp (do módulo app.main), que organiza as rotas relacionadas à funcionalidade principal da aplicação.\n> \n> - Rota principal (\"/\"):\n>     - GET: Recupera informações meteorológicas para um determinado user_id. Busca no banco de dados um registro Weather associado ao user_id fornecido e retorna os dados meteorológicos (json_data) e a porcentagem de cidades com dados coletados.\n>     - POST: Cria ou atualiza informações meteorológicas para um user_id. Recebe o user_id via formulário, itera sobre uma lista de city_codes, faz requisições à API OpenWeatherMap para cada cidade e salva/atualiza os dados no banco de dados. Implementa um sistema de rate limiting para evitar sobrecarga na API.\n> \n> - Função rate_limit(limit, interval): Implementa um mecanismo de rate limiting para controlar a frequência das requisições à API OpenWeatherMap. Suspende a execução se o número de requisições exceder o limite definido dentro de um determinado intervalo de tempo.\n> \n> - Função run_city(user_id, timestamp, city_id): Função assíncrona que faz a requisição à API OpenWeatherMap para uma cidade específica, processa a resposta e atualiza o banco de dados. Utiliza a biblioteca httpx para realizar requisições assíncronas.\n> \n> - Interação com o Banco de Dados: Utiliza o modelo Weather (do módulo app.models.weather) para interagir com o banco de dados. Realiza operações de consulta (Weather.query.filter_by), criação (Weather(...)), atualização (db.session.query(...).update(...)) e commit (db.session.commit()).\n> \n> - Integração com a API OpenWeatherMap: Faz requisições para a API OpenWeatherMap para obter dados meteorológicos em tempo real. Utiliza a chave de API armazenada na variável de ambiente APPID.\n> \n> Relação com Outras Partes do Sistema:\n> \n> - Modelos (app/models/weather.py): O arquivo interage diretamente com o modelo Weather, que define a estrutura dos dados meteorológicos no banco de dados.\n> - Banco de Dados: As informações meteorológicas são armazenadas e recuperadas do banco de dados, utilizando as funções do Flask-SQLAlchemy.\n> - Códigos de Cidades (app/main/city_codes.py): Utiliza uma lista de códigos de cidades (city_codes) para iterar e buscar informações meteorológicas de várias localidades.\n> - Configurações (variáveis de ambiente): A chave da API OpenWeatherMap (APPID) é obtida a partir de uma variável de ambiente.\n> - Blueprint (app/main/__init__.py): As rotas definidas neste arquivo são registradas em um blueprint, que é então registrado na aplicação Flask principal.\n> \n> \n> \n> \n> ---\n> \n> ## app/models/weather.py\n> \n> O arquivo `Weather` define um modelo de banco de dados para armazenar informações sobre o clima.\n> \n> - **Nome do Arquivo:** `Weather`\n> - **Propósito:** Este arquivo define a estrutura da tabela `Weather` no banco de dados, que será usada para armazenar dados relacionados ao clima.\n> - **Principais Componentes:**\n>     - `Weather` (classe): Define a estrutura da tabela `Weather`.\n>         - `user_id` (coluna): Chave primária do tipo inteiro, provavelmente usada para identificar o usuário associado aos dados climáticos.\n>         - `date_time` (coluna): Armazena a data e hora da medição climática.\n>         - `json_data` (coluna): Armazena os dados climáticos em formato JSON, permitindo flexibilidade para armazenar diferentes tipos de informações (temperatura, umidade, etc.).\n> - **Relação com o Sistema:** Este modelo provavelmente será usado em conjunto com outros componentes do sistema para coletar, armazenar e exibir informações sobre o clima. Por exemplo, uma função poderia consultar este modelo para obter dados climáticos para um determinado usuário e data/hora.\n> \n> \n> ---\n> \n> ## compose.yaml\n> \n> O arquivo `docker-compose.yml` define a configuração para orquestrar dois serviços Docker: `app` e `db`.\n> \n> - **app:** Este serviço constrói a aplicação a partir do diretório local (definido por `./`), mapeia a porta 8000 do host para a porta 5000 do contêiner, carrega variáveis de ambiente de arquivos `*.env` e declara uma dependência no serviço `db`.  A aplicação, portanto, depende do banco de dados para funcionar.\n> \n> - **db:** Este serviço usa a imagem `postgres:15.4` para criar um contêiner PostgreSQL. Define o banco de dados padrão como `flask_app_db`. Executa um script SQL para inicializar o banco de dados, usando o arquivo `init.sql`. Carrega variáveis de ambiente de arquivos `*.env` para configurar o usuário e senha do banco de dados.\n> \n> Em resumo, este arquivo `docker-compose.yml` configura um ambiente de desenvolvimento ou produção para uma aplicação que depende de um banco de dados PostgreSQL. Ele define como os contêineres são construídos, quais portas são expostas, como as variáveis de ambiente são configuradas e quais dependências existem entre os serviços.\n> \n> \n> ---\n> \n> ## config.py\n> \n> O arquivo `config.py` define uma classe de configuração chamada `Config`. Essa classe é usada para armazenar as configurações da aplicação, como a chave secreta e o URI do banco de dados. As configurações são obtidas das variáveis de ambiente, o que permite que a aplicação seja configurada de forma diferente em diferentes ambientes (por exemplo, desenvolvimento, produção, teste).\n> \n> **Principais elementos:**\n> \n> *   **`SECRET_KEY`**: Chave secreta usada para assinar cookies de sessão, prevenindo modificações maliciosas. A chave é obtida da variável de ambiente `SECRET_KEY`.\n> *   **`SQLALCHEMY_DATABASE_URI`**: URI de conexão do banco de dados SQLAlchemy. A URI é obtida da variável de ambiente `DATABASE_URL`.\n> *   **`SQLALCHEMY_TRACK_MODIFICATIONS`**: Configuração para habilitar ou desabilitar o rastreamento de modificações de objetos pelo SQLAlchemy. Está definida como `False` para evitar sobrecarga desnecessária.\n> \n> Essa classe de configuração é normalmente usada para inicializar a aplicação Flask, fornecendo os parâmetros necessários para o funcionamento correto da aplicação, incluindo a conexão com o banco de dados e a segurança da sessão. Por exemplo, a `SECRET_KEY` pode ser usada para autenticar usuários.\n> \n> \n> ---\n> \n> ## init.sql\n> \n> O arquivo contém a definição de uma tabela de banco de dados chamada `weather`. Essa tabela armazena dados relacionados ao clima, associados a um usuário específico em um determinado momento.\n> \n> - A coluna `user_id` é um inteiro que identifica o usuário associado aos dados climáticos.\n> - A coluna `date_time` armazena a data e hora em que os dados climáticos foram registrados.\n> - A coluna `json_data` armazena os dados climáticos em formato JSON, permitindo flexibilidade para armazenar diferentes tipos de informações climáticas.\n> - A chave primária da tabela é `user_id`, o que garante que cada usuário tenha apenas um registro de dados climáticos.\n> \n> Essa tabela pode ser usada em um sistema para armazenar e consultar informações climáticas para diferentes usuários. Por exemplo, um aplicativo de previsão do tempo poderia usar essa tabela para armazenar os dados climáticos coletados de diferentes fontes e associá-los aos usuários que consultam as informações.\n> \n> \n> \n> ---\n> \n> ## requirements.txt\n> \n> Este não é um arquivo de código-fonte. É uma lista de dependências (pacotes) usadas em um projeto Python, especificando as versões exatas de cada pacote. O arquivo provavelmente se chama `requirements.txt` ou similar. Ele serve para garantir que o ambiente de desenvolvimento e produção tenham as mesmas versões das bibliotecas, evitando incompatibilidades.\n> \n> As dependências listadas indicam que o projeto provavelmente é uma aplicação web construída com o framework Flask, utilizando um banco de dados relacional (provavelmente PostgreSQL) através do SQLAlchemy. As bibliotecas `requests` e `httpx` são usadas para fazer requisições HTTP a outros serviços/APIs.\n> \n> \n> \n> ---\n> \n> ## secrets/appid.env\n> \n> Este arquivo provavelmente contém a chave de identificação (APPID) para acessar uma API externa, como um serviço de previsão do tempo ou outro serviço baseado em API. Ele serve para configurar a aplicação com a credencial necessária para autenticação e autorização ao utilizar a API.\n> \n> \n> ---\n> \n> ## secrets/database_password.env\n> \n> Este arquivo provavelmente é um arquivo de configuração, possivelmente um arquivo `.env`. Ele define uma variável de ambiente chamada `POSTGRES_PASSWORD`. Essa variável é usada para armazenar a senha do banco de dados PostgreSQL. Em um sistema, esse arquivo permite configurar a senha do banco de dados de forma flexível, sem codificá-la diretamente no código-fonte. Isso é importante para segurança e para facilitar a implantação em diferentes ambientes (desenvolvimento, teste, produção), onde as senhas podem variar.\n> \n> \n> ---\n> \n> ## secrets/database_url.env\n> \n> Este arquivo `.env` define a variável de ambiente `DATABASE_URL`. Esta variável é comumente usada em aplicações para especificar a string de conexão com o banco de dados. A string de conexão contém informações como o tipo de banco de dados, endereço do servidor, nome do banco de dados, usuário e senha, permitindo que a aplicação se conecte e interaja com o banco de dados.\n> \n> \n> \n> ---\n> \n> ## secrets/database_user.env\n> \n> Este arquivo de configuração contém a definição da variável de ambiente `POSTGRES_USER`, que provavelmente é usada para especificar o nome de usuário padrão para se conectar a um banco de dados PostgreSQL. Em um sistema, essa variável seria usada para configurar a autenticação ao acessar o banco de dados, seja em scripts de inicialização, configurações de aplicativos ou conexões diretas ao banco de dados.\n> \n> \n> ---\n> \n> ## test/test_app.py\n> \n> ```text\n> Arquivo: test.py\n> \n> Este arquivo contém testes automatizados para uma API que opera em 'localhost:8000'.\n> \n> Principais Componentes:\n> \n> 1.  Classe `TestAPI`:\n>     *   É uma classe de teste que herda de `unittest.TestCase`. Isso significa que ela contém métodos que testam diferentes aspectos da API.\n> \n> 2.  Método `test_post`:\n>     *   Testa o endpoint da API que responde a requisições POST.\n>     *   Envia dados (`user_id=4`) via POST para a URL da API.\n>     *   Verifica se o código de status da resposta é 200 (OK).\n>     *   Compara o resultado da resposta com um resultado esperado (`correct_result`), validando se a API retorna os dados corretos para o `user_id` fornecido.\n>     *   Verifica se o campo `timestamp` existe na resposta, indicando que a API está retornando informações de data/hora.\n> \n> 3.  Método `test_get`:\n>     *   Testa o endpoint da API que responde a requisições GET.\n>     *   Envia uma requisição GET para a URL da API com o parâmetro `user_id=1`.\n>     *   Verifica se o código de status da resposta é 200 (OK).\n>     *   Compara o resultado da resposta com um resultado esperado (`correct_result`), confirmando se a API retorna a porcentagem correta para o `user_id` fornecido.\n> \n> Em resumo, este script usa a biblioteca `unittest` para definir e executar testes que verificam se a API em `http://localhost:8000` está funcionando corretamente para requisições POST e GET, validando tanto o código de status HTTP quanto os dados retornados. Ele simula requisições de clientes e compara as respostas da API com valores esperados.\n> ```\n"
          },
          "metadata": {}
        }
      ]
    },
    {
      "cell_type": "code",
      "source": [
        "##########################################\n",
        "# --- Agente 2: Agente analista de projetos --- #\n",
        "##########################################\n",
        "def agente_analista(descricao_codigo):\n",
        "    avaliador_projeto = Agent(\n",
        "        name=\"avaliador_projeto\",\n",
        "        model=\"gemini-2.0-flash\",\n",
        "        instruction=\"\"\"\n",
        "        Você é um especialista em análise de projetos de software. Sua tarefa é analisar a estrutura e os componentes\n",
        "        de um projeto de código com base em uma listagem em Markdown contendo:\n",
        "\n",
        "        - O nome de cada arquivo no projeto.\n",
        "        - Uma breve descrição do conteúdo ou função de cada arquivo.\n",
        "\n",
        "        Com base nessas informações, forneça uma **avaliação geral do projeto**, seguindo o seguinte formato:\n",
        "\n",
        "        1. **Descrição geral do projeto**:\n",
        "        Explique o que o projeto parece fazer, qual é o seu propósito, e para que tipo de aplicação ele é voltado.\n",
        "\n",
        "        2. **Pontos fortes**:\n",
        "        Liste aspectos positivos como organização da estrutura, separação de responsabilidades, clareza nos nomes dos arquivos,\n",
        "        presença de testes, documentação, boas práticas visíveis, modularização etc.\n",
        "\n",
        "        3. **Pontos fracos**:\n",
        "        Aponte aspectos que possam ser melhorados, como ausência de testes, acoplamento excessivo, falta de estrutura de pastas,\n",
        "        arquivos muito genéricos ou confusos, ausência de padrões claros etc.\n",
        "\n",
        "        4. **Recomendações e próximos passos**:\n",
        "        Sugira o que deveria ser feito para evoluir o projeto — como reorganização, documentação adicional, melhorias técnicas,\n",
        "        refatoração, adição de testes, melhorias de segurança, integração contínua, etc.\n",
        "\n",
        "        Use um tom analítico e profissional, como um revisor técnico que deseja ajudar a melhorar o projeto.\n",
        "\n",
        "        O conteúdo será fornecido em formato Markdown, com a listagem dos arquivos e suas descrições.\n",
        "        Não assuma nada além do que está presente nesse conteúdo.\n",
        "        \"\"\",\n",
        "        description=\"Agente que avalia a qualidade geral de um projeto de software com base em uma listagem de arquivos e descrições.\",\n",
        "    )\n",
        "\n",
        "    analise = call_agent(avaliador_projeto, descricao_codigo)\n",
        "    return analise"
      ],
      "metadata": {
        "id": "_E0s9AYPZH4X"
      },
      "execution_count": 40,
      "outputs": []
    },
    {
      "cell_type": "code",
      "source": [
        "resultado = agente_analista(resultado_completo)\n",
        "print(\"\\n--- 📝 Resultado do Agente 2 (Analista) ---\\n\")\n",
        "display(to_markdown(resultado))\n",
        "print(\"--------------------------------------------------------------\")"
      ],
      "metadata": {
        "colab": {
          "base_uri": "https://localhost:8080/",
          "height": 1000
        },
        "id": "CRgF4V7bZjHc",
        "outputId": "65ecdb67-c91d-471a-97c0-eadac003960e"
      },
      "execution_count": 41,
      "outputs": [
        {
          "output_type": "stream",
          "name": "stdout",
          "text": [
            "\n",
            "--- 📝 Resultado do Agente 2 (Analista) ---\n",
            "\n"
          ]
        },
        {
          "output_type": "display_data",
          "data": {
            "text/plain": [
              "<IPython.core.display.Markdown object>"
            ],
            "text/markdown": "> ## Avaliação do Projeto\n> \n> Com base na análise dos arquivos fornecidos, segue uma avaliação geral do projeto:\n> \n> ### 1. Descrição geral do projeto:\n> \n> O projeto consiste em um serviço que coleta dados climáticos de uma API externa (OpenWeather) e os armazena em um banco de dados PostgreSQL no formato JSON. Ele expõe uma API para que os usuários possam solicitar dados climáticos associados a um ID de usuário específico e verificar o progresso da coleta de dados. O projeto utiliza o framework Flask, SQLAlchemy para interação com o banco de dados, e bibliotecas como `requests` e `httpx` para fazer requisições HTTP. A configuração é feita através de variáveis de ambiente, o que facilita a implantação em diferentes ambientes. O projeto também inclui testes automatizados.\n> \n> ### 2. Pontos fortes:\n> \n> *   **Organização:** O projeto segue uma estrutura de diretórios razoável (com `app`, `app/main`, `app/models`, `test`).\n> *   **Separação de Responsabilidades:** A aplicação utiliza blueprints para organizar as rotas (`app/main/routes.py`). A configuração é separada do código (arquivos `.env`, `config.py`).\n> *   **Uso de Padrões:** O projeto utiliza uma função de fábrica para criar a aplicação Flask (`app/__init__.py`).\n> *   **Testes:** A presença de testes automatizados (`test/test_app.py`) é um ponto forte, indicando uma preocupação com a qualidade do código.\n> *   **Gerenciamento de Dependências:** O uso de `requirements.txt` garante a reprodutibilidade do ambiente.\n> *   **Dockerização:** O projeto é dockerizado, facilitando a implantação e o isolamento do ambiente.\n> *   **Configuração:** O uso de variáveis de ambiente para configurar a aplicação (chaves de API, credenciais do banco de dados) é uma boa prática de segurança e facilita a implantação em diferentes ambientes.\n> *   **Rate Limiting:** Implementação de rate limiting para evitar sobrecarga na API do OpenWeatherMap.\n> *   **Armazenamento de dados:** Armazenamento dos dados da API em formato JSON permite maior flexibilidade e preservação da estrutura dos dados originais.\n> \n> ### 3. Pontos fracos:\n> \n> *   **Segurança:** As senhas do banco de dados e chaves da API estão sendo versionadas no repositório, mesmo que em arquivos separados. Isso é um risco de segurança.\n> *   **Tratamento de erros:** Não há menção de tratamento de erros nas requisições à API externa. Falhas na API podem interromper o processo de coleta de dados.\n> *   **Documentação:** A documentação do projeto poderia ser mais completa, explicando como configurar e usar a aplicação.\n> *   **Tipagem:** O código não utiliza tipagem estática (type hints). A adição de type hints melhoraria a legibilidade e a manutenção do código.\n> *   **Nomes genéricos:** O nome do arquivo de testes (`test.py`) é muito genérico. Um nome mais descritivo, como `test_api.py` ou `test_weather_api.py`, seria melhor.\n> *   **Falta de abstração:** A lógica de acesso ao banco de dados está diretamente nas rotas. Poderia ser criada uma camada de serviço para abstrair essa lógica.\n> *   **Código assíncrono:** A implementação de requisições assíncronas poderia ser melhorada com um gerenciador de tarefas (como Celery) para lidar com a coleta de dados em segundo plano.\n> \n> ### 4. Recomendações e próximos passos:\n> \n> *   **Segurança:**\n>     *   **NÃO** versionar arquivos com senhas ou chaves de API. Usar segredos gerenciados por um serviço de nuvem (como AWS Secrets Manager, Google Cloud Secret Manager, Azure Key Vault) ou um sistema de gerenciamento de segredos como HashiCorp Vault.\n>     *   Implementar um sistema de autenticação e autorização para a API, garantindo que apenas usuários autorizados possam acessar os dados.\n> *   **Tratamento de erros:**\n>     *   Adicionar tratamento de erros nas requisições à API externa (try-except blocks) para lidar com falhas na API ou problemas de rede.\n>     *   Implementar logging para registrar erros e outros eventos importantes.\n> *   **Documentação:**\n>     *   Adicionar um guia de instalação e configuração no `README.md`.\n>     *   Documentar a API, explicando os endpoints, parâmetros e formatos de resposta.\n> *   **Tipagem:**\n>     *   Adicionar type hints ao código para melhorar a legibilidade e a manutenção.\n> *   **Refatoração:**\n>     *   Mover a lógica de acesso ao banco de dados para uma camada de serviço.\n>     *   Usar um gerenciador de tarefas (como Celery) para lidar com a coleta de dados em segundo plano.\n> *   **Testes:**\n>     *   Adicionar mais testes para cobrir diferentes cenários (erros, casos de borda, etc.).\n>     *   Implementar testes de integração para verificar a interação entre os diferentes componentes do sistema.\n> *   **Monitoramento:**\n>     *   Implementar um sistema de monitoramento para acompanhar a saúde da aplicação e identificar problemas em tempo real.\n> \n> Em resumo, o projeto tem uma base sólida e bem organizada, mas precisa de algumas melhorias em segurança, tratamento de erros, documentação e testes para se tornar mais robusto e fácil de manter.\n> \n"
          },
          "metadata": {}
        },
        {
          "output_type": "stream",
          "name": "stdout",
          "text": [
            "--------------------------------------------------------------\n"
          ]
        }
      ]
    },
    {
      "cell_type": "code",
      "source": [
        "# criar uma branch chamada evaluation, adicione o resultado em um arquivo evaluation.md e faça um PR para branch main\n",
        "\n",
        "# Define o nome da branch e do arquivo de avaliação\n",
        "branch_name = \"evaluation\"\n",
        "evaluation_filename = \"evaluation.md\"\n",
        "\n",
        "# Obtém o usuário autenticado\n",
        "user = g.get_user()\n",
        "\n",
        "# Obtém o repositório novamente (para garantir que temos o objeto mais recente)\n",
        "# Assumindo que 'repo' já está definido no código anterior como o objeto do repositório\n",
        "# repo = user.get_repo(\"OpenWeatherService\") # Descomente e ajuste o nome do repo se necessário\n",
        "\n",
        "try:\n",
        "    # Verifica se a branch de avaliação já existe\n",
        "    try:\n",
        "        ref = repo.get_git_ref(f\"heads/{branch_name}\")\n",
        "        print(f\"Branch '{branch_name}' já existe. Atualizando...\")\n",
        "    except Exception as e:\n",
        "        # Se a branch não existe, cria uma nova a partir da branch principal (main)\n",
        "        print(f\"Branch '{branch_name}' não encontrada. Criando nova branch...\")\n",
        "        main_branch = repo.get_branch(\"main\")\n",
        "        repo.create_git_ref(ref=f\"refs/heads/{branch_name}\", sha=main_branch.commit.sha)\n",
        "        print(f\"Branch '{branch_name}' criada com sucesso.\")\n",
        "        ref = repo.get_git_ref(f\"heads/{branch_name}\") # Obtém a referência da nova branch\n",
        "\n",
        "    # Verifica se o arquivo evaluation.md já existe na branch de avaliação\n",
        "    try:\n",
        "        contents = repo.get_contents(evaluation_filename, ref=branch_name)\n",
        "        # Atualiza o arquivo existente\n",
        "        print(f\"Arquivo '{evaluation_filename}' encontrado na branch '{branch_name}'. Atualizando...\")\n",
        "        repo.update_file(\n",
        "            path=evaluation_filename,\n",
        "            message=f\"Atualiza a avaliação do projeto\",\n",
        "            content=resultado,\n",
        "            sha=contents.sha,\n",
        "            branch=branch_name\n",
        "        )\n",
        "        print(f\"Arquivo '{evaluation_filename}' atualizado com sucesso.\")\n",
        "    except Exception as e:\n",
        "         # Se o arquivo não existe, cria um novo\n",
        "        print(f\"Arquivo '{evaluation_filename}' não encontrado na branch '{branch_name}'. Criando novo arquivo...\")\n",
        "        repo.create_file(\n",
        "            path=evaluation_filename,\n",
        "            message=f\"Adiciona a avaliação inicial do projeto\",\n",
        "            content=resultado,\n",
        "            branch=branch_name\n",
        "        )\n",
        "        print(f\"Arquivo '{evaluation_filename}' criado com sucesso.\")\n",
        "\n",
        "    # Cria o Pull Request (PR)\n",
        "    print(f\"Criando Pull Request da branch '{branch_name}' para 'main'...\")\n",
        "    try:\n",
        "        pr = repo.create_pull(\n",
        "            title=f\"Avaliação automática do projeto\",\n",
        "            body=f\"Este Pull Request adiciona/atualiza o arquivo `{evaluation_filename}` com a avaliação automática do projeto gerada em {data_de_hoje}.\",\n",
        "            head=branch_name,\n",
        "            base=\"main\"\n",
        "        )\n",
        "        print(f\"Pull Request criado com sucesso: {pr.html_url}\")\n",
        "    except Exception as e:\n",
        "        print(f\"Erro ao criar o Pull Request: {e}\")\n",
        "        # Verifica se já existe um PR da mesma branch para base\n",
        "        open_prs = repo.get_pulls(state='open', head=f'{user.login}:{branch_name}', base='main')\n",
        "        if open_prs.totalCount > 0:\n",
        "            print(\"Já existe um Pull Request aberto desta branch para 'main'.\")\n",
        "            print(f\"PR existente: {open_prs[0].html_url}\")\n",
        "        else:\n",
        "             print(\"Ocorreu um erro inesperado ao criar o PR.\")\n",
        "\n",
        "\n",
        "except Exception as e:\n",
        "    print(f\"Ocorreu um erro geral: {e}\")\n",
        "\n",
        "# Fechar a conexão do Github ao final\n",
        "g.close()\n"
      ],
      "metadata": {
        "colab": {
          "base_uri": "https://localhost:8080/"
        },
        "id": "bk_V1ih8du0L",
        "outputId": "df600ee6-21c2-4f4c-91ed-8c3a460284ce"
      },
      "execution_count": 45,
      "outputs": [
        {
          "output_type": "stream",
          "name": "stdout",
          "text": [
            "Branch 'evaluation' já existe. Atualizando...\n",
            "Arquivo 'evaluation.md' encontrado na branch 'evaluation'. Atualizando...\n",
            "Arquivo 'evaluation.md' atualizado com sucesso.\n",
            "Criando Pull Request da branch 'evaluation' para 'main'...\n",
            "Erro ao criar o Pull Request: name 'data_de_hoje' is not defined\n",
            "Já existe um Pull Request aberto desta branch para 'main'.\n",
            "PR existente: https://github.com/heitorcfelix/OpenWeatherService/pull/1\n"
          ]
        }
      ]
    },
    {
      "cell_type": "code",
      "source": [
        "##########################################\n",
        "# --- Agente 3: Assistente de códigos --- #\n",
        "##########################################\n",
        "def agente_programador(codigo):\n",
        "    assistente_codigo = Agent(\n",
        "        name=\"assistente_codigo\",\n",
        "        model=\"gemini-2.0-flash\",\n",
        "        instruction=\"\"\"\n",
        "        Você é um assistente de melhoria de código. Receberá como entrada um único arquivo de código (como .py ou .ipynb convertido para texto)\n",
        "        e deve retornar uma **versão aprimorada do código original**.\n",
        "\n",
        "        Seu objetivo é aplicar melhorias com base em:\n",
        "\n",
        "        - Boas práticas de Clean Code\n",
        "        - Comentários úteis e objetivos onde fizer sentido\n",
        "        - Docstrings explicativas em classes e funções, se necessário\n",
        "        - Nomes de variáveis e funções mais descritivos (evitar nomes genéricos)\n",
        "        - Estilo de formatação consistente (ex: PEP8 para Python)\n",
        "\n",
        "        **IMPORTANTE:**\n",
        "        - A saída deve conter **somente o código Python melhorado**.\n",
        "        - Não inclua qualquer explicação, justificativa ou comentários fora do código.\n",
        "        - Não use blocos Markdown (ex: ```python).\n",
        "        - Não escreva frases como “Melhorias sugeridas” ou “Código atualizado”.\n",
        "        - Apenas retorne o código limpo, direto, pronto para ser usado.\n",
        "\n",
        "        ### Exemplo\n",
        "\n",
        "        #### Entrada:\n",
        "        class Weather(db.Model):\n",
        "            user_id = db.Column(db.Integer, primary_key=True)\n",
        "            date_time = db.Column(db.DateTime)\n",
        "            json_data = db.Column(db.JSON)\n",
        "\n",
        "        #### Saída esperada:\n",
        "        class Weather(db.Model):\n",
        "            '''\n",
        "            Modelo para armazenar dados meteorológicos.\n",
        "\n",
        "            Atributos:\n",
        "                user_id (int): Identificador do usuário.\n",
        "                date_time (datetime): Data e hora da coleta.\n",
        "                json_data (JSON): Dados meteorológicos coletados.\n",
        "            '''\n",
        "            user_id = db.Column(db.Integer, primary_key=True)\n",
        "            date_time = db.Column(db.DateTime)\n",
        "            json_data = db.Column(db.JSON)\n",
        "        \"\"\",\n",
        "        description=\"Agente que reescreve código Python (ou notebooks) aplicando boas práticas — saída somente com o código puro.\",\n",
        "    )\n",
        "\n",
        "    analise = call_agent(assistente_codigo, codigo)\n",
        "    return analise"
      ],
      "metadata": {
        "id": "iQsVbRVm4hhT"
      },
      "execution_count": 74,
      "outputs": []
    },
    {
      "cell_type": "code",
      "source": [
        "from ipywidgets import Dropdown, Output, Button\n",
        "from IPython.display import Markdown, display\n",
        "\n",
        "# Variável global para armazenar as sugestões do agente\n",
        "ultima_sugestao_agente = None\n",
        "\n",
        "# Obter a lista de arquivos do repositório\n",
        "arquivos_repo = _listar_todos_os_arquivos(repo)\n",
        "# Criar uma lista de nomes de arquivos para o dropdown\n",
        "nomes_arquivos = [arq.path for arq in arquivos_repo]\n",
        "\n",
        "# Criar o Dropdown\n",
        "dropdown_arquivos = Dropdown(\n",
        "    options=nomes_arquivos,\n",
        "    description='Escolha um arquivo:',\n",
        "    disabled=False,\n",
        ")\n",
        "\n",
        "# Área de saída para exibir o resultado\n",
        "output_area = Output()\n",
        "\n",
        "# Função para lidar com a seleção do Dropdown\n",
        "def on_value_change(change):\n",
        "    global ultima_sugestao_agente\n",
        "\n",
        "    with output_area:\n",
        "        output_area.clear_output()\n",
        "        selected_file_path = change['new']\n",
        "        print(f\"Arquivo selecionado: {selected_file_path}\")\n",
        "\n",
        "        try:\n",
        "            # Obter o conteúdo do arquivo selecionado\n",
        "            file_content = repo.get_contents(selected_file_path).decoded_content.decode(\"utf-8\")\n",
        "            print(\"Conteúdo do arquivo lido.\")\n",
        "\n",
        "            # Submeter o conteúdo para o agente_programador\n",
        "            print(\"Submetendo conteúdo para o agente_programador...\")\n",
        "            sugestoes_agente = agente_programador(file_content)\n",
        "            ultima_sugestao_agente = sugestoes_agente  # Armazenar na variável global\n",
        "            print(\"Sugestões finalizadas pelo agente programador\")\n",
        "            print(sugestoes_agente)\n",
        "\n",
        "        except Exception as e:\n",
        "            display(Markdown(f\"Ocorreu um erro ao processar o arquivo: {e}\"))\n",
        "            ultima_sugestao_agente = None\n",
        "\n",
        "# Registrar a função para ser chamada quando o valor do Dropdown mudar\n",
        "dropdown_arquivos.observe(on_value_change, names='value')\n",
        "\n",
        "# Exibir o Dropdown e a área de saída\n",
        "display(dropdown_arquivos, output_area)\n",
        "\n",
        "# Função para obter a última sugestão do agente\n",
        "def obter_ultima_sugestao():\n",
        "    return ultima_sugestao_agente\n"
      ],
      "metadata": {
        "colab": {
          "base_uri": "https://localhost:8080/",
          "height": 379,
          "referenced_widgets": [
            "e8ff2c840409457db252e0261b291da0",
            "e8d817107ca045d49b8e97d14f1a8c6e",
            "fe77dbcbfc71472ebc5b27685fb99ab8",
            "00878eb7f3664f608413b0a663e334a6",
            "cff1862eb18a405dae158b917055309a"
          ]
        },
        "id": "6_OnFthL5nPe",
        "outputId": "78c44c5b-4ec7-487f-9919-d26ee6d1e670"
      },
      "execution_count": 78,
      "outputs": [
        {
          "output_type": "display_data",
          "data": {
            "text/plain": [
              "Dropdown(description='Escolha um arquivo:', options=('.gitignore', 'Dockerfile', 'LICENSE', 'README.md', 'comp…"
            ],
            "application/vnd.jupyter.widget-view+json": {
              "version_major": 2,
              "version_minor": 0,
              "model_id": "e8ff2c840409457db252e0261b291da0"
            }
          },
          "metadata": {}
        },
        {
          "output_type": "display_data",
          "data": {
            "text/plain": [
              "Output()"
            ],
            "application/vnd.jupyter.widget-view+json": {
              "version_major": 2,
              "version_minor": 0,
              "model_id": "00878eb7f3664f608413b0a663e334a6"
            }
          },
          "metadata": {}
        }
      ]
    },
    {
      "cell_type": "code",
      "source": [
        "# Função para criar um Pull Request com a última sugestão do agente\n",
        "def criar_pull_request():\n",
        "    global ultima_sugestao_agente\n",
        "\n",
        "    if ultima_sugestao_agente is None:\n",
        "        display(Markdown(\"Não há sugestões disponíveis. Por favor, selecione um arquivo primeiro.\"))\n",
        "        return\n",
        "\n",
        "    try:\n",
        "        # Obter o arquivo selecionado\n",
        "        selected_file_path = dropdown_arquivos.value\n",
        "\n",
        "        # Obter o conteúdo atual do arquivo\n",
        "        file_content = repo.get_contents(selected_file_path).decoded_content.decode(\"utf-8\")\n",
        "\n",
        "        # Aplicar a sugestão do agente ao conteúdo do arquivo\n",
        "        novo_conteudo = ultima_sugestao_agente\n",
        "\n",
        "        # Criar um novo branch\n",
        "        branch_name = f\"sugestao-agente\"\n",
        "        source_branch = repo.get_branch(\"main\")  # ou master, dependendo do repositório\n",
        "        repo.create_git_ref(ref=f\"refs/heads/{branch_name}\", sha=source_branch.commit.sha)\n",
        "\n",
        "        # Fazer commit da alteração no novo branch\n",
        "        commit_message = \"Aplicar sugestão do agente programador\"\n",
        "        repo.update_file(\n",
        "            path=selected_file_path,\n",
        "            message=commit_message,\n",
        "            content=novo_conteudo,\n",
        "            sha=repo.get_contents(selected_file_path, ref=branch_name).sha,\n",
        "            branch=branch_name\n",
        "        )\n",
        "\n",
        "        # Criar o Pull Request\n",
        "        pr = repo.create_pull(\n",
        "            title=f\"Sugestão do agente para {selected_file_path}\",\n",
        "            body=\"Este PR contém sugestões geradas automaticamente pelo agente programador.\",\n",
        "            head=branch_name,\n",
        "            base=\"main\"  # ou master, dependendo do repositório\n",
        "        )\n",
        "\n",
        "        display(Markdown(f\"✅ Pull Request criado com sucesso: [PR #{pr.number}]({pr.html_url})\"))\n",
        "\n",
        "    except Exception as e:\n",
        "        display(Markdown(f\"❌ Erro ao criar Pull Request: {str(e)}\"))\n",
        "\n",
        "# Botão para criar o Pull Request\n",
        "botao_criar_pr = Button(\n",
        "    description='Criar Pull Request',\n",
        "    button_style='success',\n",
        "    tooltip='Criar um PR com a última sugestão do agente'\n",
        ")\n",
        "\n",
        "# Conectar o botão à função\n",
        "botao_criar_pr.on_click(lambda b: criar_pull_request())\n",
        "\n",
        "# Exibir o botão\n",
        "display(botao_criar_pr)\n"
      ],
      "metadata": {
        "colab": {
          "base_uri": "https://localhost:8080/",
          "height": 78,
          "referenced_widgets": [
            "8b9546024f0f431f9de851498b74ce80",
            "fa847c3aa0e640eaaf804b9cea69d383",
            "36f4f51327da4f4ea66d027ef6d303cd"
          ]
        },
        "id": "1OJQOZJe_9j_",
        "outputId": "590dbf73-0dc6-43e8-ead2-b4922c64444b"
      },
      "execution_count": 80,
      "outputs": [
        {
          "output_type": "display_data",
          "data": {
            "text/plain": [
              "Button(button_style='success', description='Criar Pull Request', style=ButtonStyle(), tooltip='Criar um PR com…"
            ],
            "application/vnd.jupyter.widget-view+json": {
              "version_major": 2,
              "version_minor": 0,
              "model_id": "8b9546024f0f431f9de851498b74ce80"
            }
          },
          "metadata": {}
        },
        {
          "output_type": "display_data",
          "data": {
            "text/plain": [
              "<IPython.core.display.Markdown object>"
            ],
            "text/markdown": "✅ Pull Request criado com sucesso: [PR #2](https://github.com/heitorcfelix/OpenWeatherService/pull/2)"
          },
          "metadata": {}
        }
      ]
    }
  ]
}